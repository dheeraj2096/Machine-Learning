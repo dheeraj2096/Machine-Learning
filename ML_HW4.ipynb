{
 "cells": [
  {
   "cell_type": "code",
   "execution_count": 1,
   "metadata": {},
   "outputs": [],
   "source": [
    "import pandas as pd"
   ]
  },
  {
   "cell_type": "code",
   "execution_count": 2,
   "metadata": {},
   "outputs": [],
   "source": [
    "from pandas import ExcelWriter\n",
    "from pandas import ExcelFile"
   ]
  },
  {
   "cell_type": "markdown",
   "metadata": {},
   "source": [
    "Reading the File"
   ]
  },
  {
   "cell_type": "code",
   "execution_count": 3,
   "metadata": {},
   "outputs": [],
   "source": [
    "df1 = pd.read_excel('Clubs_data.xlsx')"
   ]
  },
  {
   "cell_type": "code",
   "execution_count": 4,
   "metadata": {},
   "outputs": [
    {
     "data": {
      "text/html": [
       "<div>\n",
       "<style scoped>\n",
       "    .dataframe tbody tr th:only-of-type {\n",
       "        vertical-align: middle;\n",
       "    }\n",
       "\n",
       "    .dataframe tbody tr th {\n",
       "        vertical-align: top;\n",
       "    }\n",
       "\n",
       "    .dataframe thead th {\n",
       "        text-align: right;\n",
       "    }\n",
       "</style>\n",
       "<table border=\"1\" class=\"dataframe\">\n",
       "  <thead>\n",
       "    <tr style=\"text-align: right;\">\n",
       "      <th></th>\n",
       "      <th>Club</th>\n",
       "      <th>Squad</th>\n",
       "      <th>Average Age</th>\n",
       "      <th>Foreigners</th>\n",
       "      <th>Total Market Value</th>\n",
       "      <th>Average Market Value</th>\n",
       "      <th>Points</th>\n",
       "      <th>Rank</th>\n",
       "      <th>Matches</th>\n",
       "      <th>W</th>\n",
       "      <th>D</th>\n",
       "      <th>L</th>\n",
       "      <th>+/-</th>\n",
       "    </tr>\n",
       "  </thead>\n",
       "  <tbody>\n",
       "    <tr>\n",
       "      <th>0</th>\n",
       "      <td>Manchester City</td>\n",
       "      <td>32</td>\n",
       "      <td>24</td>\n",
       "      <td>19</td>\n",
       "      <td>61635000000</td>\n",
       "      <td>1926000000</td>\n",
       "      <td>100</td>\n",
       "      <td>1</td>\n",
       "      <td>38</td>\n",
       "      <td>32</td>\n",
       "      <td>4</td>\n",
       "      <td>2</td>\n",
       "      <td>79</td>\n",
       "    </tr>\n",
       "    <tr>\n",
       "      <th>1</th>\n",
       "      <td>Manchester United</td>\n",
       "      <td>35</td>\n",
       "      <td>25</td>\n",
       "      <td>22</td>\n",
       "      <td>64510000000</td>\n",
       "      <td>1843000000</td>\n",
       "      <td>81</td>\n",
       "      <td>2</td>\n",
       "      <td>38</td>\n",
       "      <td>25</td>\n",
       "      <td>6</td>\n",
       "      <td>7</td>\n",
       "      <td>40</td>\n",
       "    </tr>\n",
       "    <tr>\n",
       "      <th>2</th>\n",
       "      <td>Tottenham Hotspur</td>\n",
       "      <td>34</td>\n",
       "      <td>23</td>\n",
       "      <td>22</td>\n",
       "      <td>53535000000</td>\n",
       "      <td>1575000000</td>\n",
       "      <td>77</td>\n",
       "      <td>3</td>\n",
       "      <td>38</td>\n",
       "      <td>23</td>\n",
       "      <td>8</td>\n",
       "      <td>7</td>\n",
       "      <td>38</td>\n",
       "    </tr>\n",
       "    <tr>\n",
       "      <th>3</th>\n",
       "      <td>Liverpool FC</td>\n",
       "      <td>35</td>\n",
       "      <td>24</td>\n",
       "      <td>21</td>\n",
       "      <td>49500000000</td>\n",
       "      <td>1414000000</td>\n",
       "      <td>75</td>\n",
       "      <td>4</td>\n",
       "      <td>38</td>\n",
       "      <td>21</td>\n",
       "      <td>12</td>\n",
       "      <td>5</td>\n",
       "      <td>46</td>\n",
       "    </tr>\n",
       "    <tr>\n",
       "      <th>4</th>\n",
       "      <td>Chelsea FC</td>\n",
       "      <td>45</td>\n",
       "      <td>23</td>\n",
       "      <td>32</td>\n",
       "      <td>64215000000</td>\n",
       "      <td>1427000000</td>\n",
       "      <td>70</td>\n",
       "      <td>5</td>\n",
       "      <td>38</td>\n",
       "      <td>21</td>\n",
       "      <td>7</td>\n",
       "      <td>10</td>\n",
       "      <td>24</td>\n",
       "    </tr>\n",
       "    <tr>\n",
       "      <th>5</th>\n",
       "      <td>Arsenal FC</td>\n",
       "      <td>45</td>\n",
       "      <td>23</td>\n",
       "      <td>27</td>\n",
       "      <td>63390000000</td>\n",
       "      <td>1409000000</td>\n",
       "      <td>63</td>\n",
       "      <td>6</td>\n",
       "      <td>38</td>\n",
       "      <td>19</td>\n",
       "      <td>6</td>\n",
       "      <td>13</td>\n",
       "      <td>23</td>\n",
       "    </tr>\n",
       "    <tr>\n",
       "      <th>6</th>\n",
       "      <td>Burnley FC</td>\n",
       "      <td>30</td>\n",
       "      <td>26</td>\n",
       "      <td>16</td>\n",
       "      <td>9685000000</td>\n",
       "      <td>323000000</td>\n",
       "      <td>54</td>\n",
       "      <td>7</td>\n",
       "      <td>38</td>\n",
       "      <td>14</td>\n",
       "      <td>12</td>\n",
       "      <td>12</td>\n",
       "      <td>-3</td>\n",
       "    </tr>\n",
       "    <tr>\n",
       "      <th>7</th>\n",
       "      <td>Everton FC</td>\n",
       "      <td>48</td>\n",
       "      <td>23</td>\n",
       "      <td>27</td>\n",
       "      <td>34675000000</td>\n",
       "      <td>722000000</td>\n",
       "      <td>49</td>\n",
       "      <td>8</td>\n",
       "      <td>38</td>\n",
       "      <td>13</td>\n",
       "      <td>10</td>\n",
       "      <td>15</td>\n",
       "      <td>-14</td>\n",
       "    </tr>\n",
       "    <tr>\n",
       "      <th>8</th>\n",
       "      <td>Leicester City</td>\n",
       "      <td>34</td>\n",
       "      <td>25</td>\n",
       "      <td>21</td>\n",
       "      <td>25210000000</td>\n",
       "      <td>741000000</td>\n",
       "      <td>47</td>\n",
       "      <td>9</td>\n",
       "      <td>38</td>\n",
       "      <td>12</td>\n",
       "      <td>11</td>\n",
       "      <td>15</td>\n",
       "      <td>-4</td>\n",
       "    </tr>\n",
       "    <tr>\n",
       "      <th>9</th>\n",
       "      <td>Newcastle United</td>\n",
       "      <td>37</td>\n",
       "      <td>24</td>\n",
       "      <td>25</td>\n",
       "      <td>16728000000</td>\n",
       "      <td>452000000</td>\n",
       "      <td>44</td>\n",
       "      <td>10</td>\n",
       "      <td>38</td>\n",
       "      <td>12</td>\n",
       "      <td>8</td>\n",
       "      <td>18</td>\n",
       "      <td>-8</td>\n",
       "    </tr>\n",
       "    <tr>\n",
       "      <th>10</th>\n",
       "      <td>Crystal Palace</td>\n",
       "      <td>41</td>\n",
       "      <td>24</td>\n",
       "      <td>23</td>\n",
       "      <td>19443000000</td>\n",
       "      <td>474000000</td>\n",
       "      <td>44</td>\n",
       "      <td>11</td>\n",
       "      <td>38</td>\n",
       "      <td>11</td>\n",
       "      <td>11</td>\n",
       "      <td>16</td>\n",
       "      <td>-10</td>\n",
       "    </tr>\n",
       "    <tr>\n",
       "      <th>11</th>\n",
       "      <td>AFC Bournemouth</td>\n",
       "      <td>35</td>\n",
       "      <td>25</td>\n",
       "      <td>13</td>\n",
       "      <td>11610000000</td>\n",
       "      <td>332000000</td>\n",
       "      <td>44</td>\n",
       "      <td>12</td>\n",
       "      <td>38</td>\n",
       "      <td>11</td>\n",
       "      <td>11</td>\n",
       "      <td>16</td>\n",
       "      <td>-16</td>\n",
       "    </tr>\n",
       "    <tr>\n",
       "      <th>12</th>\n",
       "      <td>West Ham United</td>\n",
       "      <td>41</td>\n",
       "      <td>24</td>\n",
       "      <td>24</td>\n",
       "      <td>26485000000</td>\n",
       "      <td>646000000</td>\n",
       "      <td>42</td>\n",
       "      <td>13</td>\n",
       "      <td>38</td>\n",
       "      <td>10</td>\n",
       "      <td>12</td>\n",
       "      <td>16</td>\n",
       "      <td>-20</td>\n",
       "    </tr>\n",
       "    <tr>\n",
       "      <th>13</th>\n",
       "      <td>Watford FC</td>\n",
       "      <td>37</td>\n",
       "      <td>25</td>\n",
       "      <td>27</td>\n",
       "      <td>16730000000</td>\n",
       "      <td>452000000</td>\n",
       "      <td>41</td>\n",
       "      <td>14</td>\n",
       "      <td>38</td>\n",
       "      <td>11</td>\n",
       "      <td>8</td>\n",
       "      <td>19</td>\n",
       "      <td>-20</td>\n",
       "    </tr>\n",
       "    <tr>\n",
       "      <th>14</th>\n",
       "      <td>Brighton &amp; Hove Albion</td>\n",
       "      <td>39</td>\n",
       "      <td>25</td>\n",
       "      <td>26</td>\n",
       "      <td>10675000000</td>\n",
       "      <td>274000000</td>\n",
       "      <td>40</td>\n",
       "      <td>15</td>\n",
       "      <td>38</td>\n",
       "      <td>9</td>\n",
       "      <td>13</td>\n",
       "      <td>16</td>\n",
       "      <td>-20</td>\n",
       "    </tr>\n",
       "    <tr>\n",
       "      <th>15</th>\n",
       "      <td>Huddersfield Town</td>\n",
       "      <td>35</td>\n",
       "      <td>24</td>\n",
       "      <td>18</td>\n",
       "      <td>6440000000</td>\n",
       "      <td>184000000</td>\n",
       "      <td>37</td>\n",
       "      <td>16</td>\n",
       "      <td>38</td>\n",
       "      <td>9</td>\n",
       "      <td>10</td>\n",
       "      <td>19</td>\n",
       "      <td>-30</td>\n",
       "    </tr>\n",
       "    <tr>\n",
       "      <th>16</th>\n",
       "      <td>Southampton FC</td>\n",
       "      <td>29</td>\n",
       "      <td>24</td>\n",
       "      <td>16</td>\n",
       "      <td>24750000000</td>\n",
       "      <td>853000000</td>\n",
       "      <td>36</td>\n",
       "      <td>17</td>\n",
       "      <td>38</td>\n",
       "      <td>7</td>\n",
       "      <td>15</td>\n",
       "      <td>16</td>\n",
       "      <td>-19</td>\n",
       "    </tr>\n",
       "    <tr>\n",
       "      <th>17</th>\n",
       "      <td>Swansea City</td>\n",
       "      <td>36</td>\n",
       "      <td>25</td>\n",
       "      <td>32</td>\n",
       "      <td>17134000000</td>\n",
       "      <td>476000000</td>\n",
       "      <td>33</td>\n",
       "      <td>18</td>\n",
       "      <td>38</td>\n",
       "      <td>8</td>\n",
       "      <td>9</td>\n",
       "      <td>21</td>\n",
       "      <td>-28</td>\n",
       "    </tr>\n",
       "    <tr>\n",
       "      <th>18</th>\n",
       "      <td>Stoke City</td>\n",
       "      <td>35</td>\n",
       "      <td>25</td>\n",
       "      <td>27</td>\n",
       "      <td>17780000000</td>\n",
       "      <td>508000000</td>\n",
       "      <td>33</td>\n",
       "      <td>19</td>\n",
       "      <td>38</td>\n",
       "      <td>7</td>\n",
       "      <td>12</td>\n",
       "      <td>19</td>\n",
       "      <td>-33</td>\n",
       "    </tr>\n",
       "    <tr>\n",
       "      <th>19</th>\n",
       "      <td>West Bromwich Albion</td>\n",
       "      <td>33</td>\n",
       "      <td>25</td>\n",
       "      <td>17</td>\n",
       "      <td>16550000000</td>\n",
       "      <td>502000000</td>\n",
       "      <td>31</td>\n",
       "      <td>20</td>\n",
       "      <td>38</td>\n",
       "      <td>6</td>\n",
       "      <td>13</td>\n",
       "      <td>19</td>\n",
       "      <td>-25</td>\n",
       "    </tr>\n",
       "  </tbody>\n",
       "</table>\n",
       "</div>"
      ],
      "text/plain": [
       "                        Club  Squad  Average Age  Foreigners  \\\n",
       "0            Manchester City     32           24          19   \n",
       "1         Manchester United      35           25          22   \n",
       "2          Tottenham Hotspur     34           23          22   \n",
       "3               Liverpool FC     35           24          21   \n",
       "4                Chelsea FC      45           23          32   \n",
       "5                Arsenal FC      45           23          27   \n",
       "6                 Burnley FC     30           26          16   \n",
       "7                 Everton FC     48           23          27   \n",
       "8             Leicester City     34           25          21   \n",
       "9         Newcastle United       37           24          25   \n",
       "10            Crystal Palace     41           24          23   \n",
       "11           AFC Bournemouth     35           25          13   \n",
       "12           West Ham United     41           24          24   \n",
       "13                Watford FC     37           25          27   \n",
       "14  Brighton & Hove Albion       39           25          26   \n",
       "15       Huddersfield Town       35           24          18   \n",
       "16            Southampton FC     29           24          16   \n",
       "17              Swansea City     36           25          32   \n",
       "18                Stoke City     35           25          27   \n",
       "19      West Bromwich Albion     33           25          17   \n",
       "\n",
       "    Total Market Value  Average Market Value  Points  Rank  Matches   W   D  \\\n",
       "0          61635000000            1926000000     100     1       38  32   4   \n",
       "1          64510000000            1843000000      81     2       38  25   6   \n",
       "2          53535000000            1575000000      77     3       38  23   8   \n",
       "3          49500000000            1414000000      75     4       38  21  12   \n",
       "4          64215000000            1427000000      70     5       38  21   7   \n",
       "5          63390000000            1409000000      63     6       38  19   6   \n",
       "6           9685000000             323000000      54     7       38  14  12   \n",
       "7          34675000000             722000000      49     8       38  13  10   \n",
       "8          25210000000             741000000      47     9       38  12  11   \n",
       "9          16728000000             452000000      44    10       38  12   8   \n",
       "10         19443000000             474000000      44    11       38  11  11   \n",
       "11         11610000000             332000000      44    12       38  11  11   \n",
       "12         26485000000             646000000      42    13       38  10  12   \n",
       "13         16730000000             452000000      41    14       38  11   8   \n",
       "14         10675000000             274000000      40    15       38   9  13   \n",
       "15          6440000000             184000000      37    16       38   9  10   \n",
       "16         24750000000             853000000      36    17       38   7  15   \n",
       "17         17134000000             476000000      33    18       38   8   9   \n",
       "18         17780000000             508000000      33    19       38   7  12   \n",
       "19         16550000000             502000000      31    20       38   6  13   \n",
       "\n",
       "     L  +/-  \n",
       "0    2   79  \n",
       "1    7   40  \n",
       "2    7   38  \n",
       "3    5   46  \n",
       "4   10   24  \n",
       "5   13   23  \n",
       "6   12   -3  \n",
       "7   15  -14  \n",
       "8   15   -4  \n",
       "9   18   -8  \n",
       "10  16  -10  \n",
       "11  16  -16  \n",
       "12  16  -20  \n",
       "13  19  -20  \n",
       "14  16  -20  \n",
       "15  19  -30  \n",
       "16  16  -19  \n",
       "17  21  -28  \n",
       "18  19  -33  \n",
       "19  19  -25  "
      ]
     },
     "execution_count": 4,
     "metadata": {},
     "output_type": "execute_result"
    }
   ],
   "source": [
    "df1"
   ]
  },
  {
   "cell_type": "code",
   "execution_count": 5,
   "metadata": {},
   "outputs": [],
   "source": [
    "#df2 = pd.read_csv('final_pos.csv')"
   ]
  },
  {
   "cell_type": "code",
   "execution_count": 6,
   "metadata": {},
   "outputs": [],
   "source": [
    "import numpy as np"
   ]
  },
  {
   "cell_type": "code",
   "execution_count": 7,
   "metadata": {},
   "outputs": [],
   "source": [
    "import matplotlib.pyplot as plt"
   ]
  },
  {
   "cell_type": "code",
   "execution_count": 8,
   "metadata": {},
   "outputs": [],
   "source": [
    "from sklearn import linear_model\n",
    "from sklearn.model_selection import train_test_split"
   ]
  },
  {
   "cell_type": "code",
   "execution_count": 9,
   "metadata": {},
   "outputs": [],
   "source": [
    "from statistics import mean\n",
    "import seaborn as sns"
   ]
  },
  {
   "cell_type": "code",
   "execution_count": 10,
   "metadata": {},
   "outputs": [],
   "source": [
    "#Club_data = {'Club':df1['Club'], 'Squad':df1['Squad'], 'Average Market Value': df1['Average Market Value'], 'Points':df2['Pts']};"
   ]
  },
  {
   "cell_type": "code",
   "execution_count": 11,
   "metadata": {},
   "outputs": [],
   "source": [
    "#Club_df = pd.DataFrame(Club_data,columns=['Club', 'Squad', 'Average Market Value', 'Points']);"
   ]
  },
  {
   "cell_type": "code",
   "execution_count": 12,
   "metadata": {},
   "outputs": [],
   "source": [
    "#Club_df"
   ]
  },
  {
   "cell_type": "code",
   "execution_count": 13,
   "metadata": {},
   "outputs": [],
   "source": [
    "#y = pd.DataFrame(df['Club'])"
   ]
  },
  {
   "cell_type": "markdown",
   "metadata": {},
   "source": [
    "## First Question"
   ]
  },
  {
   "cell_type": "code",
   "execution_count": 14,
   "metadata": {},
   "outputs": [],
   "source": [
    "x = pd.DataFrame(df1['Average Market Value'])"
   ]
  },
  {
   "cell_type": "code",
   "execution_count": 15,
   "metadata": {},
   "outputs": [],
   "source": [
    "y = pd.DataFrame(df1['Points'])"
   ]
  },
  {
   "cell_type": "code",
   "execution_count": 16,
   "metadata": {},
   "outputs": [
    {
     "data": {
      "text/plain": [
       "Text(0,0.5,'Points')"
      ]
     },
     "execution_count": 16,
     "metadata": {},
     "output_type": "execute_result"
    },
    {
     "data": {
      "image/png": "[encoded data removed]",
      "text/plain": [
       "<Figure size 432x288 with 1 Axes>"
      ]
     },
     "metadata": {},
     "output_type": "display_data"
    }
   ],
   "source": [
    "plt.plot(x, y, linestyle='dashed', marker='o', color='green', markerfacecolor = 'blue')\n",
    "plt.xlabel('Average Market Value')\n",
    "plt.ylabel('Points')"
   ]
  },
  {
   "cell_type": "markdown",
   "metadata": {},
   "source": [
    "# Using the Top 10 teams data as Training Data "
   ]
  },
  {
   "cell_type": "code",
   "execution_count": 17,
   "metadata": {},
   "outputs": [],
   "source": [
    "x_train, y_train, x_test, y_test = x.loc[0:9], y.loc[0:9], x.loc[10:19], y.loc[10:19]"
   ]
  },
  {
   "cell_type": "code",
   "execution_count": 18,
   "metadata": {},
   "outputs": [],
   "source": [
    "lm = linear_model.LinearRegression()"
   ]
  },
  {
   "cell_type": "code",
   "execution_count": 19,
   "metadata": {},
   "outputs": [],
   "source": [
    "model = lm.fit(x_train,y_train)"
   ]
  },
  {
   "cell_type": "code",
   "execution_count": 20,
   "metadata": {},
   "outputs": [],
   "source": [
    "predictions = lm.predict(x_test)"
   ]
  },
  {
   "cell_type": "code",
   "execution_count": 21,
   "metadata": {},
   "outputs": [],
   "source": [
    "#plt.scatter(x_train, y_train)\n"
   ]
  },
  {
   "cell_type": "code",
   "execution_count": 22,
   "metadata": {},
   "outputs": [],
   "source": [
    "#def slope_and_intercept(xs,ys):\n",
    "#    m = (((mean(xs)*mean(ys)) - mean(xs*ys)) /\n",
    "#         ((mean(xs)*mean(xs)) - mean(xs*xs)))\n",
    "#    \n",
    "#    b = mean(ys) - m*mean(xs)\n",
    "#    \n",
    "#    return m, b"
   ]
  },
  {
   "cell_type": "code",
   "execution_count": 23,
   "metadata": {},
   "outputs": [
    {
     "data": {
      "text/plain": [
       "<seaborn.axisgrid.FacetGrid at 0x19212d13c18>"
      ]
     },
     "execution_count": 23,
     "metadata": {},
     "output_type": "execute_result"
    },
    {
     "data": {
      "image/png": "[encoded data removed]",
      "text/plain": [
       "<Figure size 360x360 with 1 Axes>"
      ]
     },
     "metadata": {},
     "output_type": "display_data"
    }
   ],
   "source": [
    "sns.lmplot(data = df1.loc[0:9], x=\"Average Market Value\", y=\"Points\", fit_reg=True)"
   ]
  },
  {
   "cell_type": "code",
   "execution_count": 24,
   "metadata": {},
   "outputs": [
    {
     "data": {
      "text/plain": [
       "<matplotlib.legend.Legend at 0x19212e1bda0>"
      ]
     },
     "execution_count": 24,
     "metadata": {},
     "output_type": "execute_result"
    },
    {
     "data": {
      "image/png": "[encoded data removed]",
      "text/plain": [
       "<Figure size 432x288 with 1 Axes>"
      ]
     },
     "metadata": {},
     "output_type": "display_data"
    }
   ],
   "source": [
    "plt.plot(x_test, y_test, marker='o', ms=10, label=\"Actual Values\")\n",
    "plt.plot(x_test, predictions, marker='+', ms=10, label=\"Predicted Values\")\n",
    "plt.xlabel('Average Market value')\n",
    "plt.ylabel('Points')\n",
    "plt.legend()"
   ]
  },
  {
   "cell_type": "markdown",
   "metadata": {},
   "source": [
    "# Using the randomly selected 10 teams, 20 times to train the model"
   ]
  },
  {
   "cell_type": "code",
   "execution_count": 25,
   "metadata": {},
   "outputs": [],
   "source": [
    "team1=[]\n",
    "team2=[]\n",
    "team3=[]\n",
    "team4=[]\n",
    "team5=[]\n",
    "team6=[]\n",
    "team7=[]\n",
    "team8=[]\n",
    "team9=[]\n",
    "team10=[]\n",
    "team11=[]\n",
    "team12=[]\n",
    "team13=[]\n",
    "team14=[]\n",
    "team15=[]\n",
    "team16=[]\n",
    "team17=[]\n",
    "team18=[]\n",
    "team19=[]\n",
    "team0=[]\n",
    "lm20 = linear_model.LinearRegression()\n",
    "for i in range(20):\n",
    "    x_train20, x_test20, y_train20, y_test20 = train_test_split(x, y, test_size=0.5)\n",
    "    model20 = lm20.fit(x_train20, y_train20)\n",
    "    predictions20 = lm20.predict(x_test20)\n",
    "    pred_df = pd.DataFrame(predictions20)\n",
    "    for i in range(10):\n",
    "        index, value = y_test20.index[i], pred_df.values[i]\n",
    "        if(index == 1):\n",
    "            team1.append(value)\n",
    "        elif(index ==2):\n",
    "            team2.append(value)\n",
    "        elif(index ==3):\n",
    "            team3.append(value)\n",
    "        elif(index ==4):\n",
    "            team4.append(value)\n",
    "        elif(index ==5):\n",
    "            team5.append(value)\n",
    "        elif(index ==6):\n",
    "            team6.append(value)\n",
    "        elif(index ==7):\n",
    "            team7.append(value)\n",
    "        elif(index ==8):\n",
    "            team8.append(value)\n",
    "        elif(index ==9):\n",
    "            team9.append(value)\n",
    "        elif(index ==10):\n",
    "            team10.append(value)\n",
    "        elif(index ==11):\n",
    "            team11.append(value)\n",
    "        elif(index ==12):\n",
    "            team12.append(value)\n",
    "        elif(index ==13):\n",
    "            team13.append(value)\n",
    "        elif(index ==14):\n",
    "            team14.append(value)\n",
    "        elif(index ==15):\n",
    "            team15.append(value)\n",
    "        elif(index ==16):\n",
    "            team16.append(value)\n",
    "        elif(index ==17):\n",
    "            team17.append(value)\n",
    "        elif(index ==18):\n",
    "            team18.append(value)\n",
    "        elif(index ==19):\n",
    "            team19.append(value)\n",
    "        elif(index ==0):\n",
    "            team0.append(value)    "
   ]
  },
  {
   "cell_type": "code",
   "execution_count": 26,
   "metadata": {
    "scrolled": true
   },
   "outputs": [],
   "source": [
    "pred_values=[]\n",
    "pred_values.append(sum(team0)/len(team0))\n",
    "pred_values.append(sum(team1)/len(team1))\n",
    "pred_values.append(sum(team2)/len(team2))\n",
    "pred_values.append(sum(team3)/len(team3))\n",
    "pred_values.append(sum(team4)/len(team4))\n",
    "pred_values.append(sum(team5)/len(team5))\n",
    "pred_values.append(sum(team6)/len(team6))\n",
    "pred_values.append(sum(team7)/len(team7))\n",
    "pred_values.append(sum(team8)/len(team8))\n",
    "pred_values.append(sum(team9)/len(team9))\n",
    "pred_values.append(sum(team10)/len(team10))\n",
    "pred_values.append(sum(team11)/len(team11))\n",
    "pred_values.append(sum(team12)/len(team12))\n",
    "pred_values.append(sum(team13)/len(team13))\n",
    "pred_values.append(sum(team14)/len(team14))\n",
    "pred_values.append(sum(team15)/len(team15))\n",
    "pred_values.append(sum(team16)/len(team16))\n",
    "pred_values.append(sum(team17)/len(team17))\n",
    "pred_values.append(sum(team18)/len(team18))\n",
    "pred_values.append(sum(team19)/len(team19))"
   ]
  },
  {
   "cell_type": "code",
   "execution_count": 27,
   "metadata": {},
   "outputs": [
    {
     "data": {
      "text/plain": [
       "20"
      ]
     },
     "execution_count": 27,
     "metadata": {},
     "output_type": "execute_result"
    }
   ],
   "source": [
    "len(pred_values)"
   ]
  },
  {
   "cell_type": "code",
   "execution_count": 28,
   "metadata": {},
   "outputs": [
    {
     "data": {
      "text/plain": [
       "<matplotlib.legend.Legend at 0x19212e9fd30>"
      ]
     },
     "execution_count": 28,
     "metadata": {},
     "output_type": "execute_result"
    },
    {
     "data": {
      "image/png": "[encoded data removed]",
      "text/plain": [
       "<Figure size 432x288 with 1 Axes>"
      ]
     },
     "metadata": {},
     "output_type": "display_data"
    }
   ],
   "source": [
    "#plt.plot(pred_values)\n",
    "#plt.plot(df1['Points'])\n",
    "plt.plot(df1['Average Market Value'], df1['Points'], marker='o', ms=10, label=\"Actual Values\")\n",
    "plt.plot(df1['Average Market Value'], pred_values, marker='+', ms=10, label=\"Predicted Values\")\n",
    "plt.xlabel('Average Market value')\n",
    "plt.ylabel('Points')\n",
    "plt.legend()"
   ]
  },
  {
   "cell_type": "markdown",
   "metadata": {},
   "source": [
    "# Comparing the accuracy of both the predictions"
   ]
  },
  {
   "cell_type": "code",
   "execution_count": 29,
   "metadata": {},
   "outputs": [],
   "source": [
    "from sklearn import metrics"
   ]
  },
  {
   "cell_type": "code",
   "execution_count": 30,
   "metadata": {},
   "outputs": [
    {
     "name": "stdout",
     "output_type": "stream",
     "text": [
      "114.15026024225908\n"
     ]
    }
   ],
   "source": [
    "#This is the MSE for the first model, using first 10 teams as training data and predicting other 10\n",
    "Method_1a = metrics.mean_squared_error(y_test, predictions)\n",
    "print(metrics.mean_squared_error(y_test, predictions))"
   ]
  },
  {
   "cell_type": "code",
   "execution_count": 31,
   "metadata": {},
   "outputs": [
    {
     "name": "stdout",
     "output_type": "stream",
     "text": [
      "82.5408250801254\n"
     ]
    }
   ],
   "source": [
    "#This is the MSE for the second model, randomly selecting 10 teams, 20 times and getting the average of the 20 teams\n",
    "Method_1b = metrics.mean_squared_error(df1['Points'],pred_values)\n",
    "print(metrics.mean_squared_error(df1['Points'],pred_values))"
   ]
  },
  {
   "cell_type": "markdown",
   "metadata": {},
   "source": [
    "# So the Second method gives better prediction"
   ]
  },
  {
   "cell_type": "markdown",
   "metadata": {},
   "source": [
    "## Second Question"
   ]
  },
  {
   "cell_type": "code",
   "execution_count": 32,
   "metadata": {},
   "outputs": [
    {
     "data": {
      "text/plain": [
       "<matplotlib.legend.Legend at 0x19212f15e10>"
      ]
     },
     "execution_count": 32,
     "metadata": {},
     "output_type": "execute_result"
    },
    {
     "data": {
      "image/png": "[encoded data removed]",
      "text/plain": [
       "<Figure size 432x288 with 1 Axes>"
      ]
     },
     "metadata": {},
     "output_type": "display_data"
    }
   ],
   "source": [
    "plt.plot(df1['Average Age'], df1['Points'], label='Average Age')\n",
    "plt.plot(df1['Foreigners'], df1['Points'], label='Foreigners')\n",
    "plt.legend()"
   ]
  },
  {
   "cell_type": "code",
   "execution_count": 33,
   "metadata": {},
   "outputs": [
    {
     "data": {
      "text/plain": [
       "<seaborn.axisgrid.FacetGrid at 0x19212f3b4a8>"
      ]
     },
     "execution_count": 33,
     "metadata": {},
     "output_type": "execute_result"
    },
    {
     "data": {
      "image/png": "[encoded data removed]",
      "text/plain": [
       "<Figure size 360x360 with 1 Axes>"
      ]
     },
     "metadata": {},
     "output_type": "display_data"
    }
   ],
   "source": [
    "sns.lmplot(data=df1, x='Average Age', y='Points', fit_reg=True)"
   ]
  },
  {
   "cell_type": "code",
   "execution_count": 34,
   "metadata": {
    "scrolled": false
   },
   "outputs": [
    {
     "data": {
      "text/plain": [
       "<seaborn.axisgrid.FacetGrid at 0x19212f44d30>"
      ]
     },
     "execution_count": 34,
     "metadata": {},
     "output_type": "execute_result"
    },
    {
     "data": {
      "image/png": "[encoded data removed]",
      "text/plain": [
       "<Figure size 360x360 with 1 Axes>"
      ]
     },
     "metadata": {},
     "output_type": "display_data"
    }
   ],
   "source": [
    "sns.lmplot(data=df1, x='Foreigners', y='Points', fit_reg=True)"
   ]
  },
  {
   "cell_type": "markdown",
   "metadata": {},
   "source": [
    "# Training the model with top 10 teams and predicting the bottom 10 teams "
   ]
  },
  {
   "cell_type": "code",
   "execution_count": 35,
   "metadata": {},
   "outputs": [],
   "source": [
    "X = pd.DataFrame(df1[['Average Age','Foreigners']])"
   ]
  },
  {
   "cell_type": "code",
   "execution_count": 36,
   "metadata": {},
   "outputs": [],
   "source": [
    "Y = pd.DataFrame(df1['Points'])"
   ]
  },
  {
   "cell_type": "code",
   "execution_count": 37,
   "metadata": {},
   "outputs": [],
   "source": [
    "X_train, Y_train, X_test, Y_test = X.loc[0:9], Y.loc[0:9], X.loc[10:19], Y.loc[10:19]"
   ]
  },
  {
   "cell_type": "code",
   "execution_count": 38,
   "metadata": {},
   "outputs": [],
   "source": [
    "LM = linear_model.LinearRegression()"
   ]
  },
  {
   "cell_type": "code",
   "execution_count": 39,
   "metadata": {},
   "outputs": [],
   "source": [
    "Model = LM.fit(X_train, Y_train)"
   ]
  },
  {
   "cell_type": "code",
   "execution_count": 40,
   "metadata": {},
   "outputs": [],
   "source": [
    "Predictions = LM.predict(X_test)"
   ]
  },
  {
   "cell_type": "code",
   "execution_count": 41,
   "metadata": {},
   "outputs": [
    {
     "data": {
      "text/plain": [
       "<matplotlib.legend.Legend at 0x1921306e438>"
      ]
     },
     "execution_count": 41,
     "metadata": {},
     "output_type": "execute_result"
    },
    {
     "data": {
      "image/png": "[encoded data removed]",
      "text/plain": [
       "<Figure size 432x288 with 1 Axes>"
      ]
     },
     "metadata": {},
     "output_type": "display_data"
    }
   ],
   "source": [
    "plt.plot(X_test, Y_test, label='Actual')\n",
    "plt.plot(X_test, Predictions, label='Predictions')\n",
    "plt.xlabel('Average Age and Number of Foreigners')\n",
    "plt.ylabel('Points')\n",
    "plt.legend()"
   ]
  },
  {
   "cell_type": "markdown",
   "metadata": {},
   "source": [
    "# Using randomly selected 10 teams, 20 times to train the model"
   ]
  },
  {
   "cell_type": "code",
   "execution_count": 42,
   "metadata": {},
   "outputs": [],
   "source": [
    "Team1=[]\n",
    "Team2=[]\n",
    "Team3=[]\n",
    "Team4=[]\n",
    "Team5=[]\n",
    "Team6=[]\n",
    "Team7=[]\n",
    "Team8=[]\n",
    "Team9=[]\n",
    "Team10=[]\n",
    "Team11=[]\n",
    "Team12=[]\n",
    "Team13=[]\n",
    "Team14=[]\n",
    "Team15=[]\n",
    "Team16=[]\n",
    "Team17=[]\n",
    "Team18=[]\n",
    "Team19=[]\n",
    "Team0=[]\n",
    "LM20 = linear_model.LinearRegression()\n",
    "for i in range(20):\n",
    "    X_train20, X_test20, Y_train20, Y_test20 = train_test_split(X, Y, test_size=0.5)\n",
    "    Model20 = LM20.fit(X_train20, Y_train20)\n",
    "    Predictions20 = LM20.predict(X_test20)\n",
    "    Pred_df = pd.DataFrame(Predictions20)\n",
    "    for i in range(10):\n",
    "        index, value = Y_test20.index[i], Pred_df.values[i]\n",
    "        if(index == 1):\n",
    "            Team1.append(value)\n",
    "        elif(index ==2):\n",
    "            Team2.append(value)\n",
    "        elif(index ==3):\n",
    "            Team3.append(value)\n",
    "        elif(index ==4):\n",
    "            Team4.append(value)\n",
    "        elif(index ==5):\n",
    "            Team5.append(value)\n",
    "        elif(index ==6):\n",
    "            Team6.append(value)\n",
    "        elif(index ==7):\n",
    "            Team7.append(value)\n",
    "        elif(index ==8):\n",
    "            Team8.append(value)\n",
    "        elif(index ==9):\n",
    "            Team9.append(value)\n",
    "        elif(index ==10):\n",
    "            Team10.append(value)\n",
    "        elif(index ==11):\n",
    "            Team11.append(value)\n",
    "        elif(index ==12):\n",
    "            Team12.append(value)\n",
    "        elif(index ==13):\n",
    "            Team13.append(value)\n",
    "        elif(index ==14):\n",
    "            Team14.append(value)\n",
    "        elif(index ==15):\n",
    "            Team15.append(value)\n",
    "        elif(index ==16):\n",
    "            Team16.append(value)\n",
    "        elif(index ==17):\n",
    "            Team17.append(value)\n",
    "        elif(index ==18):\n",
    "            Team18.append(value)\n",
    "        elif(index ==19):\n",
    "            Team19.append(value)\n",
    "        elif(index ==0):\n",
    "            Team0.append(value)    "
   ]
  },
  {
   "cell_type": "code",
   "execution_count": 43,
   "metadata": {},
   "outputs": [],
   "source": [
    "Pred_values=[]\n",
    "Pred_values.append(sum(Team0)/len(Team0))\n",
    "Pred_values.append(sum(Team1)/len(Team1))\n",
    "Pred_values.append(sum(Team2)/len(Team2))\n",
    "Pred_values.append(sum(Team3)/len(Team3))\n",
    "Pred_values.append(sum(Team4)/len(Team4))\n",
    "Pred_values.append(sum(Team5)/len(Team5))\n",
    "Pred_values.append(sum(Team6)/len(Team6))\n",
    "Pred_values.append(sum(Team7)/len(Team7))\n",
    "Pred_values.append(sum(Team8)/len(Team8))\n",
    "Pred_values.append(sum(Team9)/len(Team9))\n",
    "Pred_values.append(sum(Team10)/len(Team10))\n",
    "Pred_values.append(sum(Team11)/len(Team11))\n",
    "Pred_values.append(sum(Team12)/len(Team12))\n",
    "Pred_values.append(sum(Team13)/len(Team13))\n",
    "Pred_values.append(sum(Team14)/len(Team14))\n",
    "Pred_values.append(sum(Team15)/len(Team15))\n",
    "Pred_values.append(sum(Team16)/len(Team16))\n",
    "Pred_values.append(sum(Team17)/len(Team17))\n",
    "Pred_values.append(sum(Team18)/len(Team18))\n",
    "Pred_values.append(sum(Team19)/len(Team19))"
   ]
  },
  {
   "cell_type": "code",
   "execution_count": 44,
   "metadata": {},
   "outputs": [
    {
     "data": {
      "text/plain": [
       "20"
      ]
     },
     "execution_count": 44,
     "metadata": {},
     "output_type": "execute_result"
    }
   ],
   "source": [
    "len(Pred_values)"
   ]
  },
  {
   "cell_type": "code",
   "execution_count": 45,
   "metadata": {},
   "outputs": [
    {
     "data": {
      "text/plain": [
       "<matplotlib.legend.Legend at 0x192130feef0>"
      ]
     },
     "execution_count": 45,
     "metadata": {},
     "output_type": "execute_result"
    },
    {
     "data": {
      "image/png": "[encoded data removed]",
      "text/plain": [
       "<Figure size 432x288 with 1 Axes>"
      ]
     },
     "metadata": {},
     "output_type": "display_data"
    }
   ],
   "source": [
    "#plt.plot(pred_values)\n",
    "#plt.plot(df1['Points'])\n",
    "plt.plot(X, df1['Points'], marker='o', ms=10, label=\"Actual Values\")\n",
    "plt.plot(X, Pred_values, marker='+', ms=10, label=\"Predicted Values\")\n",
    "plt.xlabel('Average Market value')\n",
    "plt.ylabel('Points')\n",
    "plt.legend()"
   ]
  },
  {
   "cell_type": "markdown",
   "metadata": {},
   "source": [
    "# Comparing both the methods "
   ]
  },
  {
   "cell_type": "code",
   "execution_count": 46,
   "metadata": {},
   "outputs": [
    {
     "name": "stdout",
     "output_type": "stream",
     "text": [
      "856.7716836338262\n"
     ]
    }
   ],
   "source": [
    "#This is the MSE for the first model, using first 10 teams as training data and predicting other 10\n",
    "Method_2a = metrics.mean_squared_error(Y_test, Predictions)\n",
    "print(metrics.mean_squared_error(Y_test, Predictions))"
   ]
  },
  {
   "cell_type": "code",
   "execution_count": 47,
   "metadata": {},
   "outputs": [
    {
     "name": "stdout",
     "output_type": "stream",
     "text": [
      "379.434666927585\n"
     ]
    }
   ],
   "source": [
    "#This is the MSE for the second model, randomly selecting 10 teams, 20 times and getting the average of the 20 teams\n",
    "Method_2b = metrics.mean_squared_error(df1['Points'],Pred_values)\n",
    "print(metrics.mean_squared_error(df1['Points'],Pred_values))"
   ]
  },
  {
   "cell_type": "markdown",
   "metadata": {},
   "source": [
    "## Second method gives better accuracy"
   ]
  },
  {
   "cell_type": "code",
   "execution_count": 48,
   "metadata": {},
   "outputs": [
    {
     "data": {
      "text/plain": [
       "(114.15026024225908, 82.5408250801254, 856.7716836338262, 379.434666927585)"
      ]
     },
     "execution_count": 48,
     "metadata": {},
     "output_type": "execute_result"
    }
   ],
   "source": [
    "Method_1a, Method_1b, Method_2a, Method_2b"
   ]
  },
  {
   "cell_type": "markdown",
   "metadata": {},
   "source": [
    "# Model 1 gives better predictions"
   ]
  }
 ],
 "metadata": {
  "kernelspec": {
   "display_name": "Python 3",
   "language": "python",
   "name": "python3"
  },
  "language_info": {
   "codemirror_mode": {
    "name": "ipython",
    "version": 3
   },
   "file_extension": ".py",
   "mimetype": "text/x-python",
   "name": "python",
   "nbconvert_exporter": "python",
   "pygments_lexer": "ipython3",
   "version": "3.7.3"
  }
 },
 "nbformat": 4,
 "nbformat_minor": 2
}
